{
  "nbformat": 4,
  "nbformat_minor": 0,
  "metadata": {
    "colab": {
      "name": "Day4_assignment.ipynb",
      "provenance": [],
      "collapsed_sections": [],
      "authorship_tag": "ABX9TyOttq1NIfPs5CE81vAKpFut",
      "include_colab_link": true
    },
    "kernelspec": {
      "name": "python3",
      "display_name": "Python 3"
    }
  },
  "cells": [
    {
      "cell_type": "markdown",
      "metadata": {
        "id": "view-in-github",
        "colab_type": "text"
      },
      "source": [
        "<a href=\"https://colab.research.google.com/github/akshayambavane/Practice-files/blob/master/Day4_assignment.ipynb\" target=\"_parent\"><img src=\"https://colab.research.google.com/assets/colab-badge.svg\" alt=\"Open In Colab\"/></a>"
      ]
    },
    {
      "cell_type": "markdown",
      "metadata": {
        "id": "a0WBHoBfcntl",
        "colab_type": "text"
      },
      "source": [
        ""
      ]
    },
    {
      "cell_type": "markdown",
      "metadata": {
        "id": "cA3bCyV_cpye",
        "colab_type": "text"
      },
      "source": [
        "# 1. Addition, subtraction, multiplication, division, floor division and modulo operations performed on complex numbers."
      ]
    },
    {
      "cell_type": "code",
      "metadata": {
        "id": "SX059OoQc87Q",
        "colab_type": "code",
        "colab": {
          "base_uri": "https://localhost:8080/",
          "height": 85
        },
        "outputId": "e0be022e-1d70-4f0b-eee4-c2445da9055a"
      },
      "source": [
        "cmp1 = 5+3j\n",
        "cmp2 = 1+2j\n",
        "\n",
        "# Addition\n",
        "print(\"Addition\", cmp1 + cmp2)\n",
        "\n",
        "# Subtraction\n",
        "print(\"Subtraction\", cmp1 - cmp2)\n",
        "\n",
        "# Multiplication\n",
        "print(\"Multiplication\", cmp1 * cmp2)\n",
        "\n",
        "# Division\n",
        "print(\"Division\", cmp1 / cmp2)\n",
        "\n",
        "# Modulo & Floor Division - We can't compute this 2 in Python 3\n"
      ],
      "execution_count": null,
      "outputs": [
        {
          "output_type": "stream",
          "text": [
            "Addition (5+5j)\n",
            "Subtraction (3+1j)\n",
            "Multiplication (-2+11j)\n",
            "Division (2-1j)\n"
          ],
          "name": "stdout"
        }
      ]
    },
    {
      "cell_type": "markdown",
      "metadata": {
        "id": "a3qC6j28h43Q",
        "colab_type": "text"
      },
      "source": [
        "#2. range() functions and its parameters\n",
        "### range() fuction in python used to generates the integer numbers between the given start integer to the stop integer and step integer which is used to increase iteration by step.\n",
        "### range() has 3 parameters - _range(start, stop, step)_\n",
        "### we can use range() function in loop to how many times we want to run loop. \n",
        "###if range(0, 5) it will generate 0 to 4(0, 1, 2, 3, 4) number excluding 5 here step is 1 by default \n",
        "### if we have step in range(0, 5, 2) we will get 0, 2, 4"
      ]
    },
    {
      "cell_type": "code",
      "metadata": {
        "id": "SsdFvNdIiLtE",
        "colab_type": "code",
        "colab": {
          "base_uri": "https://localhost:8080/",
          "height": 272
        },
        "outputId": "e035147b-86a2-441a-e767-16911fc5fcc0"
      },
      "source": [
        "# without step\n",
        "for i in range(0,5):\n",
        "  print(i)\n",
        "print(\"_______________________\")\n",
        "# another example\n",
        "for i in range(5):\n",
        "  print(i)\n",
        "print(\"_______________________\")\n",
        "# with step\n",
        "for i in range(0,5,2):\n",
        "  print(i)"
      ],
      "execution_count": null,
      "outputs": [
        {
          "output_type": "stream",
          "text": [
            "0\n",
            "1\n",
            "2\n",
            "3\n",
            "4\n",
            "_______________________\n",
            "0\n",
            "1\n",
            "2\n",
            "3\n",
            "4\n",
            "_______________________\n",
            "0\n",
            "2\n",
            "4\n"
          ],
          "name": "stdout"
        }
      ]
    },
    {
      "cell_type": "markdown",
      "metadata": {
        "id": "_ir8R7brld4G",
        "colab_type": "text"
      },
      "source": [
        "#3. Consider two numbers. Perform their subtraction and if the result of subtraction is greater than 25, print their multiplication result else print their division result.\n"
      ]
    },
    {
      "cell_type": "code",
      "metadata": {
        "id": "rQFMBSITmA51",
        "colab_type": "code",
        "colab": {
          "base_uri": "https://localhost:8080/",
          "height": 34
        },
        "outputId": "6af1c479-5932-44aa-cd9e-50d27cd18870"
      },
      "source": [
        "num1 = 47\n",
        "num2 = 5\n",
        "\n",
        "if (num1 - num2) > 25:\n",
        "  print(num1 * num2)\n",
        "else:\n",
        "  print(num1 / num2)"
      ],
      "execution_count": null,
      "outputs": [
        {
          "output_type": "stream",
          "text": [
            "235\n"
          ],
          "name": "stdout"
        }
      ]
    },
    {
      "cell_type": "markdown",
      "metadata": {
        "id": "tnCHmyEkmrBE",
        "colab_type": "text"
      },
      "source": [
        "#4. Consider a list of 10 elements of integer values. If the number in the list is divisible by 2, print the result as \"square of that number minus 2\""
      ]
    },
    {
      "cell_type": "code",
      "metadata": {
        "id": "ZCLtBDPDmykR",
        "colab_type": "code",
        "colab": {
          "base_uri": "https://localhost:8080/",
          "height": 170
        },
        "outputId": "2aad4af6-3b2d-46db-f713-19b9abf72361"
      },
      "source": [
        "l = [11, 22, 45, 67, 32, 67, 56, 89, 4, 9]\n",
        "for i in l:\n",
        "  if i%2 == 0:\n",
        "    print(\"square of\", i, \"number minus 2 = \", str((i**2) - 2))\n",
        "\n",
        "print() # just to add space"
      ],
      "execution_count": null,
      "outputs": [
        {
          "output_type": "stream",
          "text": [
            "square of 22 number minus 2 =  482\n",
            "square of 32 number minus 2 =  1022\n",
            "square of 56 number minus 2 =  3134\n",
            "square of 4 number minus 2 =  14\n",
            "\n",
            "482\n",
            "1022\n",
            "3134\n",
            "14\n"
          ],
          "name": "stdout"
        }
      ]
    },
    {
      "cell_type": "markdown",
      "metadata": {
        "id": "3aplZIU8ote-",
        "colab_type": "text"
      },
      "source": [
        "#5. Consider a list of 10 elements. Print all the elements in the list which are greater than 7 when that number is divided 2."
      ]
    },
    {
      "cell_type": "code",
      "metadata": {
        "id": "KLKTZlkWo5jC",
        "colab_type": "code",
        "colab": {
          "base_uri": "https://localhost:8080/",
          "height": 136
        },
        "outputId": "f58e62f2-6321-4691-a86d-b302b7ea2564"
      },
      "source": [
        "ls = [11, 22, 45, 67, 32, 67, 56, 89, 4, 9]\n",
        "for i in ls:\n",
        "  if (i / 2) > 7:\n",
        "    print(i)"
      ],
      "execution_count": null,
      "outputs": [
        {
          "output_type": "stream",
          "text": [
            "22\n",
            "45\n",
            "67\n",
            "32\n",
            "67\n",
            "56\n",
            "89\n"
          ],
          "name": "stdout"
        }
      ]
    }
  ]
}