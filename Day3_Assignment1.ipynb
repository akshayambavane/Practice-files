{
  "nbformat": 4,
  "nbformat_minor": 0,
  "metadata": {
    "colab": {
      "name": "Day3.ipynb",
      "provenance": [],
      "collapsed_sections": [],
      "toc_visible": true
    },
    "kernelspec": {
      "name": "python3",
      "display_name": "Python 3"
    }
  },
  "cells": [
    {
      "cell_type": "markdown",
      "metadata": {
        "id": "Lc7QF7nMn2MB",
        "colab_type": "text"
      },
      "source": [
        "# 1. Subtract two complex numbers in Python."
      ]
    },
    {
      "cell_type": "code",
      "metadata": {
        "id": "O-frIrwbnSxD",
        "colab_type": "code",
        "colab": {
          "base_uri": "https://localhost:8080/",
          "height": 33
        },
        "outputId": "1b143618-f09b-42f4-e2bd-aa97e576505b"
      },
      "source": [
        "# Use normal same operation method for complex numbers also\n",
        "comp_a = 1 + 2j\n",
        "comp_b = 2 + 3j\n",
        "comp_a - comp_b"
      ],
      "execution_count": 3,
      "outputs": [
        {
          "output_type": "execute_result",
          "data": {
            "text/plain": [
              "(-1-1j)"
            ]
          },
          "metadata": {
            "tags": []
          },
          "execution_count": 3
        }
      ]
    },
    {
      "cell_type": "markdown",
      "metadata": {
        "id": "ps50Zg2bo2kO",
        "colab_type": "text"
      },
      "source": [
        "#2. Find the fourth root of a number."
      ]
    },
    {
      "cell_type": "code",
      "metadata": {
        "id": "uAF5N5fFpJVf",
        "colab_type": "code",
        "colab": {
          "base_uri": "https://localhost:8080/",
          "height": 33
        },
        "outputId": "89a3643e-ad22-4d80-a543-25a76f8cd686"
      },
      "source": [
        "# Formula for n'th root of any number = num^(1/n)\n",
        "num = 16\n",
        "num**(1/4)"
      ],
      "execution_count": 9,
      "outputs": [
        {
          "output_type": "execute_result",
          "data": {
            "text/plain": [
              "2.0"
            ]
          },
          "metadata": {
            "tags": []
          },
          "execution_count": 9
        }
      ]
    },
    {
      "cell_type": "markdown",
      "metadata": {
        "id": "D-Pt5XL_qdfw",
        "colab_type": "text"
      },
      "source": [
        "# 3. Swap two numbers in Python with the help of a temporary variable."
      ]
    },
    {
      "cell_type": "code",
      "metadata": {
        "id": "FI6wcPknqkeY",
        "colab_type": "code",
        "colab": {
          "base_uri": "https://localhost:8080/",
          "height": 52
        },
        "outputId": "2183184c-d78b-426f-a7c8-3513838d95d9"
      },
      "source": [
        "num1 = 5\n",
        "num2 = 10\n",
        "\n",
        "temp = num1\n",
        "num1 = num2\n",
        "num2 = temp\n",
        "\n",
        "print(num1)\n",
        "print(num2)"
      ],
      "execution_count": 10,
      "outputs": [
        {
          "output_type": "stream",
          "text": [
            "10\n",
            "5\n"
          ],
          "name": "stdout"
        }
      ]
    },
    {
      "cell_type": "markdown",
      "metadata": {
        "id": "xX-LvM8jrYkI",
        "colab_type": "text"
      },
      "source": [
        "# 4. Swap two numbers in Python without using a temporary variable."
      ]
    },
    {
      "cell_type": "code",
      "metadata": {
        "id": "-HwEy2ZErafd",
        "colab_type": "code",
        "colab": {
          "base_uri": "https://localhost:8080/",
          "height": 52
        },
        "outputId": "68916cd1-8248-4764-ebf6-8cbb95b57809"
      },
      "source": [
        "#Follow below steps\n",
        "#Store the two numbers in separate variables.\n",
        "##Add both the variables and store it in the first variable.\n",
        "#Subtract the second variable from the first and store it in the second variable.\n",
        "#subtract the second variable from the first variable and store it in the first variable.\n",
        "\n",
        "\n",
        "number1 = 5\n",
        "number2 = 10\n",
        "\n",
        "number1 = number1 + number2\n",
        "number2 = number1 - number2\n",
        "number1 = number1 - number2\n",
        "\n",
        "print(number1)\n",
        "print(number2)"
      ],
      "execution_count": 14,
      "outputs": [
        {
          "output_type": "stream",
          "text": [
            "10\n",
            "5\n"
          ],
          "name": "stdout"
        }
      ]
    },
    {
      "cell_type": "markdown",
      "metadata": {
        "id": "OmvUeE3ttaZY",
        "colab_type": "text"
      },
      "source": [
        "# 5. Convert fahrenheit to kelvin and celsius both."
      ]
    },
    {
      "cell_type": "code",
      "metadata": {
        "id": "Mb4cdVixtmNH",
        "colab_type": "code",
        "colab": {
          "base_uri": "https://localhost:8080/",
          "height": 52
        },
        "outputId": "65a9b131-cd3b-4a16-bbbc-a0d0f0c68772"
      },
      "source": [
        "# Formula to convert fahrenheit to Kelvin: c = 5/9(f - 32) + 273\n",
        "# Formula to convert fahrenheit to celsius: c = 5/9 * (f-32)\n",
        "\n",
        "f = 100\n",
        "k = (5 / 9) * (f - 32) + 273\n",
        "c = (5 / 9) * (f - 32)\n",
        "\n",
        "print(\"Kelvin:\", k)\n",
        "print(\"Celsius:\", str(c))"
      ],
      "execution_count": 22,
      "outputs": [
        {
          "output_type": "stream",
          "text": [
            "Kelvin: 310.77777777777777\n",
            "Celsius: 37.77777777777778\n"
          ],
          "name": "stdout"
        }
      ]
    },
    {
      "cell_type": "markdown",
      "metadata": {
        "id": "xTM5XucuxGXW",
        "colab_type": "text"
      },
      "source": [
        "#6. Demonstrate all the available data types in Python.\n",
        "###1. String\n",
        "###2. Int\n",
        "###3. Float\n",
        "###4. Boolean\n",
        "###5. Complex\n",
        "###6. Lists\n",
        "###7. Dictionary\n",
        "###8. Tuples\n",
        "###9. Sets"
      ]
    },
    {
      "cell_type": "code",
      "metadata": {
        "id": "mCga0bNly5aX",
        "colab_type": "code",
        "colab": {
          "base_uri": "https://localhost:8080/",
          "height": 173
        },
        "outputId": "0055ecf4-e3e9-4899-be4e-58ac17c45483"
      },
      "source": [
        "#String\n",
        "s = \"LetsUpgrade\"\n",
        "print(type(s))\n",
        "\n",
        "#Int\n",
        "integer = 5\n",
        "print(type(integer))\n",
        "\n",
        "#Float\n",
        "flt = 5.13\n",
        "print(type(flt))\n",
        "\n",
        "#Boolean\n",
        "booln1 = True\n",
        "booln2 = False\n",
        "print(type(booln1), type(booln2))\n",
        "\n",
        "#Complex\n",
        "cmp = 1 + 2j\n",
        "print(type(cmp))\n",
        "\n",
        "#Lists\n",
        "lst = [1, 2, 3, 4, 1]\n",
        "print(type(lst))\n",
        "\n",
        "#Dictionary - Key:Value\n",
        "d = {\"Teacher\":\"LetsUpgrade\", \"Student\":\"Akshay Ambavane\"}\n",
        "print(type(d))\n",
        "\n",
        "#Tuple \n",
        "tup = (1, 2, 3, 4)\n",
        "print(type(tup))\n",
        "\n",
        "#Sets - Unordered unique\n",
        "st = {1, 2, 3, 4}\n",
        "print(type(st))"
      ],
      "execution_count": 26,
      "outputs": [
        {
          "output_type": "stream",
          "text": [
            "<class 'str'>\n",
            "<class 'int'>\n",
            "<class 'float'>\n",
            "<class 'bool'> <class 'bool'>\n",
            "<class 'complex'>\n",
            "<class 'list'>\n",
            "<class 'dict'>\n",
            "<class 'tuple'>\n",
            "<class 'set'>\n"
          ],
          "name": "stdout"
        }
      ]
    },
    {
      "cell_type": "markdown",
      "metadata": {
        "id": "eQhWxLBq1Onk",
        "colab_type": "text"
      },
      "source": [
        "#7. steps discussed in the session by Dr. Darshan Ingle sir to create Github profile and upload Githubs Assignment link.\n",
        "###1. Open \"github.com\" in Browser\n",
        "###2. Sign-In with google account\n",
        "###3. Create a github public repositary and name it as LetsUpgrade AI-ML\n",
        "###4. Upload the files/solution in the repo in day wise manner.\n",
        "###5. Copy the url of the Folder of that day and paste in the Assignment Submission Form (Google Form) which will be mentioned in this section after the class.\n",
        "###6. Make sure you are filling correct details (Registered Email and Mobile No.) in the Assignment Submission Form.\n",
        "###7. submit the URL into LetsUpgrade Form.\n"
      ]
    }
  ]
}